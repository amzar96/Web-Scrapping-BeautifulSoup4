{
 "cells": [
  {
   "cell_type": "code",
   "execution_count": 1,
   "metadata": {
    "collapsed": true
   },
   "outputs": [],
   "source": [
    "import requests\n",
    "import bs4\n",
    "from bs4 import BeautifulSoup as soup\n",
    "\n",
    "url = requests.get('http://shop.abstraxjingga.com/webshaper/store/bestSellers.asp')\n",
    "soup = soup(url.content, 'html.parser')"
   ]
  },
  {
   "cell_type": "code",
   "execution_count": 9,
   "metadata": {
    "collapsed": true
   },
   "outputs": [],
   "source": [
    "new_arrival = soup.find(id=\"col1\")\n",
    "#new_arrival = soup.findAll(\"div\", {\"class\": \"newProductsGrid\"})\n",
    "item_name = new_arrival.find_all(class_=\"prodItemName\")\n",
    "firstitem = item_name[0]"
   ]
  },
  {
   "cell_type": "code",
   "execution_count": 10,
   "metadata": {},
   "outputs": [
    {
     "name": "stdout",
     "output_type": "stream",
     "text": [
      "<div class=\"prodItemName\"><a href=\"/products/ABSTRAX-x-MAS--MASTERPIECE-JERSEY-v2.0/111\" title=\"ABSTRAX x MAS #MASTERPIECE JERSEY v2.0 ( Extra Small )\">ABSTRAX x MAS #MASTERPIECE JERSEY v2.0 ( Extra Small )</a></div>\n"
     ]
    }
   ],
   "source": [
    "print(firstitem)"
   ]
  },
  {
   "cell_type": "code",
   "execution_count": 11,
   "metadata": {
    "collapsed": true
   },
   "outputs": [],
   "source": [
    "findcat = soup.find(id=\"col2Left\").get_text()"
   ]
  },
  {
   "cell_type": "code",
   "execution_count": 12,
   "metadata": {},
   "outputs": [
    {
     "name": "stdout",
     "output_type": "stream",
     "text": [
      "\n",
      "\n",
      "\n",
      "\r\n",
      "\t\t\t\tCategories\r\n",
      "\t\t\t\t \n",
      "\n",
      "\n",
      "ABSTRAX® ACCESSORIES\n",
      "CAR STICKER\n",
      "KEYCHAIN\n",
      "LAPEL PIN\n",
      "LANYARD\n",
      "STICKER\n",
      "\n",
      "ABSTRAX® HOODIE\n",
      "HAQIEM RUSLI HOODIE\n",
      "\n",
      "ABSTRAX® BOMBER\n",
      "ABSTRAX® HEADWEAR\n",
      "HEADWEAR\n",
      "\n",
      "ABSTRAX® JERSEY\n",
      "ABSTRAX1MY\n",
      "ABSTRAXMYTIGER\n",
      "ABSTRAXMAS\n",
      "ABSTRAXVORTEX\n",
      "\n",
      "ABSTRAX® KURTA\n",
      "ABSTRAX #5TRIPES\n",
      "ABSTRAX #2TONE\n",
      "\n",
      "ABSTRAX® POLO\n",
      "ROADTOAUSTRALIA\n",
      "ABSTRAX 2TONE\n",
      "\n",
      "ABSTRAX® SHIRT\n",
      "ABSTRAX AFMEGASTAR\n",
      "ABSTRAX BASIC\n",
      "\n",
      "ABSTRAX BTSWT\n",
      "ABSTRAX BUNKFACE\n",
      "ABSTRAX HUJAN\n",
      "ABSTRAX KIDS\n",
      "ABSTRAX LOVELIFEST\n",
      "ABSTRAX MONOCHROME\n",
      "ABSTRAX PROPAGANDA\n",
      "ABSTRAX RTA\n",
      "ABSTRAX TERRITORY\n",
      "ABSTRAXBANGKITBERSAMA\n",
      "ABSTRAXSUPERSPONTAN2017\n",
      "\n",
      "ABSTRAX® SWEATER\n",
      "ABSTRAX® SWEATSHIRT\n",
      "ABSTRAX® WINDBREAKER\n",
      "\n",
      "\n",
      "\n",
      "\n",
      "\n",
      "\n"
     ]
    }
   ],
   "source": [
    "print(findcat)"
   ]
  },
  {
   "cell_type": "code",
   "execution_count": 13,
   "metadata": {
    "collapsed": true
   },
   "outputs": [],
   "source": [
    "findcat = soup.find(id=\"col2Left\")\n",
    "find_second_cat = findcat.find(class_=\"categoryList1 cat-id-82\").get_text()"
   ]
  },
  {
   "cell_type": "code",
   "execution_count": 14,
   "metadata": {},
   "outputs": [
    {
     "name": "stdout",
     "output_type": "stream",
     "text": [
      "ABSTRAX® HOODIE\n"
     ]
    }
   ],
   "source": [
    "print(find_second_cat)"
   ]
  },
  {
   "cell_type": "code",
   "execution_count": 15,
   "metadata": {},
   "outputs": [
    {
     "name": "stdout",
     "output_type": "stream",
     "text": [
      "ABSTRAX x MAS #MASTERPIECE JERSEY v2.0 ( Extra Small ) and price RM90.00 \r\n",
      "\t\t\t\t\t\t\t\t\t\t63.00\r\n",
      "\t\t\t\t\t\t\t\t\t\t \r\n",
      "\t\t\t\t\t\t\t\t\t\t30%\r\n",
      "\t\t\t\t\t\t\t\t\t\t\n",
      "ABSTRAX x MAS #MASTERPIECE VIRUS JERSEY v2.0 ( Extra Small ) and price RM90.00 \r\n",
      "\t\t\t\t\t\t\t\t\t\t63.00\r\n",
      "\t\t\t\t\t\t\t\t\t\t \r\n",
      "\t\t\t\t\t\t\t\t\t\t30%\r\n",
      "\t\t\t\t\t\t\t\t\t\t\n",
      "ABSTRAX VORTEX #1MYPERPADUAN SHORT-SLEEVE JERSEY ( Small ) and price RM90.00 \r\n",
      "\t\t\t\t\t\t\t\t\t\t45.00\r\n",
      "\t\t\t\t\t\t\t\t\t\t \r\n",
      "\t\t\t\t\t\t\t\t\t\t50%\r\n",
      "\t\t\t\t\t\t\t\t\t\t\n",
      "ABSTRAX VORTEX #1MYPERPADUAN SHORT-SLEEVE JERSEY ( Medium ) and price RM90.00 \r\n",
      "\t\t\t\t\t\t\t\t\t\t45.00\r\n",
      "\t\t\t\t\t\t\t\t\t\t \r\n",
      "\t\t\t\t\t\t\t\t\t\t50%\r\n",
      "\t\t\t\t\t\t\t\t\t\t\n",
      "ABSTRAX X BUNKFACE DARAH MUDA (2018) NAVY-BLUE SHORT ( Medium ) and price RM70.00\n",
      "ABSTRAX X BUNKFACE DARAH MUDA (2018) NAVY-BLUE SHORT ( Large ) and price RM70.00\n"
     ]
    }
   ],
   "source": [
    "new_arrival = soup.findAll(\"div\", {\"class\": \"prodItemName\"})\n",
    "new_arrival2 = soup.findAll(\"div\", {\"class\": \"prodItemPrice\"})\n",
    "\n",
    "for x in range (len(new_arrival)):\n",
    "    name=new_arrival[x].get_text()\n",
    "    price=new_arrival2[x].get_text()\n",
    "    print(name+\" and price \"+price)\n"
   ]
  },
  {
   "cell_type": "code",
   "execution_count": null,
   "metadata": {
    "collapsed": true
   },
   "outputs": [],
   "source": []
  }
 ],
 "metadata": {
  "kernelspec": {
   "display_name": "Python 3",
   "language": "python",
   "name": "python3"
  },
  "language_info": {
   "codemirror_mode": {
    "name": "ipython",
    "version": 3
   },
   "file_extension": ".py",
   "mimetype": "text/x-python",
   "name": "python",
   "nbconvert_exporter": "python",
   "pygments_lexer": "ipython3",
   "version": "3.6.3"
  }
 },
 "nbformat": 4,
 "nbformat_minor": 2
}
